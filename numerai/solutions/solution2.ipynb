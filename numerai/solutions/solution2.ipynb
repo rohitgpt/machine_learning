{
 "cells": [
  {
   "cell_type": "code",
   "execution_count": 1,
   "metadata": {},
   "outputs": [
    {
     "name": "stdout",
     "output_type": "stream",
     "text": [
      "\r"
     ]
    }
   ],
   "source": [
    "import matplotlib\n",
    "import numpy as np\n",
    "import pandas as pd\n",
    "from numerapi import NumerAPI\n",
    "import random\n",
    "import sklearn\n",
    "import matplotlib.pyplot as plt\n",
    "from utils import save_model, load_model, neutralize, get_biggest_change_features, validation_metrics, download_data\n",
    "%matplotlib inline\n",
    "\n",
    "from sklearn import (\n",
    "    feature_extraction, feature_selection, decomposition, linear_model,\n",
    "    model_selection, metrics, svm\n",
    ")\n"
   ]
  },
  {
   "cell_type": "code",
   "execution_count": 2,
   "metadata": {},
   "outputs": [
    {
     "data": {
      "text/plain": [
       "['PUBLIC_DATASETS_URL',\n",
       " '__class__',\n",
       " '__delattr__',\n",
       " '__dict__',\n",
       " '__dir__',\n",
       " '__doc__',\n",
       " '__eq__',\n",
       " '__format__',\n",
       " '__ge__',\n",
       " '__getattribute__',\n",
       " '__gt__',\n",
       " '__hash__',\n",
       " '__init__',\n",
       " '__init_subclass__',\n",
       " '__le__',\n",
       " '__lt__',\n",
       " '__module__',\n",
       " '__ne__',\n",
       " '__new__',\n",
       " '__reduce__',\n",
       " '__reduce_ex__',\n",
       " '__repr__',\n",
       " '__setattr__',\n",
       " '__sizeof__',\n",
       " '__str__',\n",
       " '__subclasshook__',\n",
       " '__weakref__',\n",
       " '_handle_call_error',\n",
       " '_login',\n",
       " '_unzip_file',\n",
       " '_upload_auth',\n",
       " 'check_new_round',\n",
       " 'daily_model_performances',\n",
       " 'daily_submissions_performances',\n",
       " 'daily_user_performances',\n",
       " 'diagnostics',\n",
       " 'download_current_dataset',\n",
       " 'download_dataset',\n",
       " 'download_latest_data',\n",
       " 'get_account',\n",
       " 'get_account_transactions',\n",
       " 'get_competitions',\n",
       " 'get_current_round',\n",
       " 'get_dataset_url',\n",
       " 'get_latest_data_url',\n",
       " 'get_leaderboard',\n",
       " 'get_models',\n",
       " 'get_submission_filenames',\n",
       " 'get_user',\n",
       " 'list_datasets',\n",
       " 'public_user_profile',\n",
       " 'raw_query',\n",
       " 'round_details',\n",
       " 'round_model_performances',\n",
       " 'set_submission_webhook',\n",
       " 'stake_change',\n",
       " 'stake_decrease',\n",
       " 'stake_drain',\n",
       " 'stake_get',\n",
       " 'stake_increase',\n",
       " 'stake_set',\n",
       " 'submission_status',\n",
       " 'upload_diagnostics',\n",
       " 'upload_predictions',\n",
       " 'wallet_transactions']"
      ]
     },
     "execution_count": 2,
     "metadata": {},
     "output_type": "execute_result"
    },
    {
     "name": "stdout",
     "output_type": "stream",
     "text": [
      "\r"
     ]
    }
   ],
   "source": [
    "dir(NumerAPI)"
   ]
  },
  {
   "cell_type": "code",
   "execution_count": 20,
   "metadata": {},
   "outputs": [
    {
     "name": "stdout",
     "output_type": "stream",
     "text": [
      "\r"
     ]
    }
   ],
   "source": [
    "# Get your API keys and model_id from https://numer.ai/notebook\n",
    "public_id = \"X7ATBIYCUITRN2DR4MOIZPQYFPHRL422\"\n",
    "secret_key = \"6YGFUTN4DQMAEAVHHVF4KTSBGRNKSBH3S4ZI3MJ4RTSLUB5ZQ64J4ISKHVFTE2Y6\"\n",
    "model_id1 = \"d537b445-b274-43b6-8687-a276f182ed33\"\n",
    "model_id2 = \"58082e2c-17ff-45aa-8dcd-ef3cf085e473\"\n",
    "napi = NumerAPI(public_id=public_id, secret_key=secret_key)"
   ]
  },
  {
   "cell_type": "code",
   "execution_count": 27,
   "metadata": {},
   "outputs": [
    {
     "data": {
      "text/plain": [
       "['example_predictions.csv',\n",
       " 'example_predictions.parquet',\n",
       " 'example_validation_predictions.csv',\n",
       " 'example_validation_predictions.parquet',\n",
       " 'features.json',\n",
       " 'numerai_datasets.zip',\n",
       " 'numerai_live_data.csv',\n",
       " 'numerai_live_data.parquet',\n",
       " 'numerai_live_data_int8.csv',\n",
       " 'numerai_live_data_int8.parquet',\n",
       " 'numerai_tournament_data.csv',\n",
       " 'numerai_tournament_data.parquet',\n",
       " 'numerai_tournament_data_int8.csv',\n",
       " 'numerai_tournament_data_int8.parquet',\n",
       " 'numerai_training_data.csv',\n",
       " 'numerai_training_data.parquet',\n",
       " 'numerai_training_data_int8.csv',\n",
       " 'numerai_training_data_int8.parquet',\n",
       " 'numerai_validation_data.csv',\n",
       " 'numerai_validation_data.parquet',\n",
       " 'numerai_validation_data_int8.csv',\n",
       " 'numerai_validation_data_int8.parquet']"
      ]
     },
     "execution_count": 27,
     "metadata": {},
     "output_type": "execute_result"
    },
    {
     "name": "stdout",
     "output_type": "stream",
     "text": [
      "\r"
     ]
    }
   ],
   "source": [
    "# napi.submission_status(model_id=model_id1)\n",
    "\n",
    "# napi.wallet_transactions()\n",
    "\n",
    "# napi.round_details(round_num=300)\n",
    "\n",
    "napi.list_datasets()"
   ]
  },
  {
   "cell_type": "code",
   "execution_count": 29,
   "metadata": {},
   "outputs": [
    {
     "name": "stderr",
     "output_type": "stream",
     "text": [
      "/Users/krullun/Documents/at/atenv/lib/python3.8/site-packages/IPython/core/interactiveshell.py:3146: DtypeWarning: Columns (83,84) have mixed types.Specify dtype option on import or set low_memory=False.\n",
      "  has_raised = await self.run_ast_nodes(code_ast.body, cell_name,\n"
     ]
    },
    {
     "name": "stdout",
     "output_type": "stream",
     "text": [
      "\r"
     ]
    }
   ],
   "source": [
    "df = pd.read_csv('../latest_signals_dataset/example_tournament_data_yahoo.csv')"
   ]
  },
  {
   "cell_type": "code",
   "execution_count": 31,
   "metadata": {},
   "outputs": [
    {
     "data": {
      "text/plain": [
       "(1639733, 88)"
      ]
     },
     "execution_count": 31,
     "metadata": {},
     "output_type": "execute_result"
    },
    {
     "name": "stdout",
     "output_type": "stream",
     "text": [
      "\r"
     ]
    }
   ],
   "source": [
    "df.shape"
   ]
  },
  {
   "cell_type": "code",
   "execution_count": 12,
   "metadata": {},
   "outputs": [
    {
     "data": {
      "text/plain": [
       "True"
      ]
     },
     "execution_count": 12,
     "metadata": {},
     "output_type": "execute_result"
    },
    {
     "name": "stdout",
     "output_type": "stream",
     "text": [
      "\r"
     ]
    }
   ],
   "source": [
    "'IN' in 'INI'"
   ]
  },
  {
   "cell_type": "code",
   "execution_count": null,
   "metadata": {},
   "outputs": [],
   "source": []
  }
 ],
 "metadata": {
  "kernelspec": {
   "display_name": "Python 3",
   "language": "python",
   "name": "python3"
  },
  "language_info": {
   "codemirror_mode": {
    "name": "ipython",
    "version": 3
   },
   "file_extension": ".py",
   "mimetype": "text/x-python",
   "name": "python",
   "nbconvert_exporter": "python",
   "pygments_lexer": "ipython3",
   "version": "3.8.2"
  }
 },
 "nbformat": 4,
 "nbformat_minor": 4
}
